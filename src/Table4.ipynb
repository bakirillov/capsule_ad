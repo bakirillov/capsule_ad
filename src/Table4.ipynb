{
 "cells": [
  {
   "cell_type": "code",
   "execution_count": 1,
   "id": "familiar-pharmacology",
   "metadata": {},
   "outputs": [],
   "source": [
    "import os\n",
    "import re\n",
    "import results\n",
    "import numpy as np\n",
    "import pandas as pd\n",
    "import os.path as op\n",
    "from sklearn.metrics import roc_auc_score"
   ]
  },
  {
   "cell_type": "code",
   "execution_count": 2,
   "id": "touched-spring",
   "metadata": {},
   "outputs": [],
   "source": [
    "fns = list(filter(lambda x: \".csv\" in x, [a for a in os.walk(\"../models\")][0][2]))"
   ]
  },
  {
   "cell_type": "code",
   "execution_count": 3,
   "id": "whole-width",
   "metadata": {},
   "outputs": [],
   "source": [
    "is_ABC = lambda x: \"ABC\" in x\n",
    "is_NL = lambda x: \"NL\" in x\n",
    "is_CN = lambda x: \"CN\" in x\n",
    "is_SDI = lambda x: \"SDI\" in x\n",
    "is_SDO = lambda x: \"_SDO\" in x\n",
    "is_01 = lambda x: \"_0.1_\" in x\n",
    "is_1 = lambda x: \"_1_\" in x\n",
    "is_10 = lambda x: \"_10_\" in x\n",
    "is_SA = lambda x: \"_SA\" in x\n",
    "is_SB = lambda x: \"_SB\" in x\n",
    "is_SC = lambda x: \"_SC\" in x\n",
    "is_SD = lambda x: \"_SD\" in x\n",
    "is_test = lambda x: \"test\" in x\n",
    "is_train = lambda x: \"train\" in x\n",
    "is_n = lambda x,n: \"_\"+str(n)+\"_\" in x\n",
    "is_MNIST = lambda x: re.search(\"^MNIST\", x)\n",
    "is_FMNIST = lambda x: re.search(\"FMNIST\", x)\n",
    "is_KMNIST = lambda x: re.search(\"KMNIST\", x)\n",
    "is_CIFAR = lambda x: re.search(\"CIFAR\", x)\n",
    "is_HAM = lambda x: re.search(\"HAM\", x)\n",
    "is_PENG = lambda x: re.search(\"PENG\", x)"
   ]
  },
  {
   "cell_type": "code",
   "execution_count": 4,
   "id": "moral-january",
   "metadata": {},
   "outputs": [],
   "source": [
    "fns = list(filter(is_test, fns))"
   ]
  },
  {
   "cell_type": "code",
   "execution_count": 5,
   "id": "4f3e4c24",
   "metadata": {},
   "outputs": [],
   "source": [
    "total = {\n",
    "    \"A\": {\n",
    "        \"Palma\": None,\n",
    "        \"Gini\": None,\n",
    "        \"Plain\": None,\n",
    "        \"A\": None,\n",
    "        \"Npp\": None,\n",
    "        \"Nre\": None,\n",
    "        \"ABC\": None,\n",
    "        \"NL\": None,\n",
    "        \"Prop\": None,\n",
    "    },\n",
    "    \"B\": {\n",
    "        \"Palma\": None,\n",
    "        \"Gini\": None,\n",
    "        \"Plain\": None,\n",
    "        \"A\": None,\n",
    "        \"Npp\": None,\n",
    "        \"Nre\": None,\n",
    "        \"ABC\": None,\n",
    "        \"NL\": None,\n",
    "        \"Prop\": None,\n",
    "    },\n",
    "    \"C\": {\n",
    "        \"Palma\": None,\n",
    "        \"Gini\": None,\n",
    "        \"Plain\": None,\n",
    "        \"A\": None,\n",
    "        \"Npp\": None,\n",
    "        \"Nre\": None,\n",
    "        \"ABC\": None,\n",
    "        \"NL\": None,\n",
    "        \"Prop\": None,\n",
    "    },\n",
    "    \"D\": {\n",
    "        \"Palma\": None,\n",
    "        \"Gini\": None,\n",
    "        \"Plain\": None,\n",
    "        \"A\": None,\n",
    "        \"Npp\": None,\n",
    "        \"Nre\": None,\n",
    "        \"ABC\": None,\n",
    "        \"NL\": None,\n",
    "        \"Prop\": None,\n",
    "    },\n",
    "}"
   ]
  },
  {
   "cell_type": "markdown",
   "id": "hispanic-purse",
   "metadata": {},
   "source": [
    "# A"
   ]
  },
  {
   "cell_type": "code",
   "execution_count": 6,
   "id": "electoral-crest",
   "metadata": {},
   "outputs": [
    {
     "name": "stdout",
     "output_type": "stream",
     "text": [
      "10 10 10\n",
      "['0.7348 ± 0.016', '0.7347 ± 0.0157', '0.5 ± 0.0', '0.5693 ± 0.012', '0.695 ± 0.0055', '0.5675 ± 0.0122', '0.5456 ± 0.0027', '0.5865 ± 0.003']\n"
     ]
    }
   ],
   "source": [
    "CN = [op.join(\"../models\", a) for a in \n",
    "     list(filter(lambda x: is_CN(x) and is_HAM(x) and is_SA(x), fns))]\n",
    "ABC = [op.join(\"../models\", a) for a in \n",
    "     list(filter(lambda x: is_ABC(x) and is_HAM(x) and is_SA(x), fns))]\n",
    "NL = [op.join(\"../models\", a) for a in \n",
    "     list(filter(lambda x: is_NL(x) and is_HAM(x) and is_SA(x), fns))]\n",
    "CN_plain = [results.read_CN(a, \"plain\", roc_auc_score) for a in CN]\n",
    "CN_gini = [results.read_CN(a, \"gini\", roc_auc_score) for a in CN]\n",
    "CN_palma = [results.read_CN(a, \"palma\", roc_auc_score) for a in CN]\n",
    "CN_a = [results.read_CN(a, \"anomaly_score\", roc_auc_score) for a in CN]\n",
    "CN_npp = [results.read_CN(a, \"n_pp\", roc_auc_score) for a in CN]\n",
    "CN_nre = [results.read_CN(a, \"n_re\", roc_auc_score) for a in CN]\n",
    "ABC_ = [results.read_ABCNL(a, roc_auc_score) for a in ABC]\n",
    "NL_ = [results.read_ABCNL(a, roc_auc_score) for a in NL]\n",
    "props = [results.proportions(a) for a in CN]\n",
    "column = [\n",
    "    str(np.mean(a).round(4))+\" ± \"+str(np.std(a).round(4)) for a in [\n",
    "        CN_palma, CN_gini, CN_plain, CN_a, CN_npp, CN_nre, ABC_, NL_\n",
    "    ]\n",
    "]\n",
    "total[\"A\"][\"Palma\"] = column[0]\n",
    "total[\"A\"][\"Gini\"] = column[1]\n",
    "total[\"A\"][\"Plain\"] = column[2]\n",
    "total[\"A\"][\"A\"] = column[3]\n",
    "total[\"A\"][\"Npp\"] = column[4]\n",
    "total[\"A\"][\"Nre\"] = column[5]\n",
    "total[\"A\"][\"ABC\"] = column[6]\n",
    "total[\"A\"][\"NL\"] = column[7]\n",
    "total[\"A\"][\"Prop\"] = np.mean(props)\n",
    "print(len(CN), len(ABC), len(NL))\n",
    "print(column)"
   ]
  },
  {
   "cell_type": "markdown",
   "id": "virtual-northwest",
   "metadata": {},
   "source": [
    "# B"
   ]
  },
  {
   "cell_type": "code",
   "execution_count": 7,
   "id": "rural-herald",
   "metadata": {},
   "outputs": [
    {
     "name": "stdout",
     "output_type": "stream",
     "text": [
      "10 10 10\n",
      "['0.7312 ± 0.0137', '0.7312 ± 0.0137', '0.5 ± 0.0', '0.5815 ± 0.0216', '0.7204 ± 0.012', '0.5945 ± 0.02', '0.5888 ± 0.003', '0.5908 ± 0.0046']\n"
     ]
    }
   ],
   "source": [
    "CN = [op.join(\"../models\", a) for a in \n",
    "     list(filter(lambda x: is_CN(x) and is_HAM(x) and is_SB(x), fns))]\n",
    "ABC = [op.join(\"../models\", a) for a in \n",
    "     list(filter(lambda x: is_ABC(x) and is_HAM(x) and is_SB(x), fns))]\n",
    "NL = [op.join(\"../models\", a) for a in \n",
    "     list(filter(lambda x: is_NL(x) and is_HAM(x) and is_SB(x), fns))]\n",
    "CN_plain = [results.read_CN(a, \"plain\", roc_auc_score) for a in CN]\n",
    "CN_gini = [results.read_CN(a, \"gini\", roc_auc_score) for a in CN]\n",
    "CN_palma = [results.read_CN(a, \"palma\", roc_auc_score) for a in CN]\n",
    "CN_a = [results.read_CN(a, \"anomaly_score\", roc_auc_score) for a in CN]\n",
    "CN_npp = [results.read_CN(a, \"n_pp\", roc_auc_score) for a in CN]\n",
    "CN_nre = [results.read_CN(a, \"n_re\", roc_auc_score) for a in CN]\n",
    "ABC_ = [results.read_ABCNL(a, roc_auc_score) for a in ABC]\n",
    "NL_ = [results.read_ABCNL(a, roc_auc_score) for a in NL]\n",
    "props = [results.proportions(a) for a in CN]\n",
    "column = [\n",
    "    str(np.mean(a).round(4))+\" ± \"+str(np.std(a).round(4)) for a in [\n",
    "        CN_palma, CN_gini, CN_plain, CN_a, CN_npp, CN_nre, ABC_, NL_\n",
    "    ]\n",
    "]\n",
    "total[\"B\"][\"Palma\"] = column[0]\n",
    "total[\"B\"][\"Gini\"] = column[1]\n",
    "total[\"B\"][\"Plain\"] = column[2]\n",
    "total[\"B\"][\"A\"] = column[3]\n",
    "total[\"B\"][\"Npp\"] = column[4]\n",
    "total[\"B\"][\"Nre\"] = column[5]\n",
    "total[\"B\"][\"ABC\"] = column[6]\n",
    "total[\"B\"][\"NL\"] = column[7]\n",
    "total[\"B\"][\"Prop\"] = np.mean(props)\n",
    "print(len(CN), len(ABC), len(NL))\n",
    "print(column)"
   ]
  },
  {
   "cell_type": "markdown",
   "id": "vocal-planning",
   "metadata": {},
   "source": [
    "# C"
   ]
  },
  {
   "cell_type": "code",
   "execution_count": 8,
   "id": "warming-washington",
   "metadata": {},
   "outputs": [
    {
     "name": "stdout",
     "output_type": "stream",
     "text": [
      "10 10 10\n",
      "['0.788 ± 0.0165', '0.7883 ± 0.0163', '0.4996 ± 0.0005', '0.5849 ± 0.0129', '0.7468 ± 0.0099', '0.5848 ± 0.0132', '0.571 ± 0.0076', '0.6173 ± 0.0037']\n"
     ]
    }
   ],
   "source": [
    "CN = [op.join(\"../models\", a) for a in \n",
    "     list(filter(lambda x: is_CN(x) and is_HAM(x) and is_SC(x), fns))]\n",
    "ABC = [op.join(\"../models\", a) for a in \n",
    "     list(filter(lambda x: is_ABC(x) and is_HAM(x) and is_SC(x), fns))]\n",
    "NL = [op.join(\"../models\", a) for a in \n",
    "     list(filter(lambda x: is_NL(x) and is_HAM(x) and is_SC(x), fns))]\n",
    "CN_plain = [results.read_CN(a, \"plain\", roc_auc_score) for a in CN]\n",
    "CN_gini = [results.read_CN(a, \"gini\", roc_auc_score) for a in CN]\n",
    "CN_palma = [results.read_CN(a, \"palma\", roc_auc_score) for a in CN]\n",
    "CN_a = [results.read_CN(a, \"anomaly_score\", roc_auc_score) for a in CN]\n",
    "CN_npp = [results.read_CN(a, \"n_pp\", roc_auc_score) for a in CN]\n",
    "CN_nre = [results.read_CN(a, \"n_re\", roc_auc_score) for a in CN]\n",
    "ABC_ = [results.read_ABCNL(a, roc_auc_score) for a in ABC]\n",
    "NL_ = [results.read_ABCNL(a, roc_auc_score) for a in NL]\n",
    "props = [results.proportions(a) for a in CN]\n",
    "column = [\n",
    "    str(np.mean(a).round(4))+\" ± \"+str(np.std(a).round(4)) for a in [\n",
    "        CN_palma, CN_gini, CN_plain, CN_a, CN_npp, CN_nre, ABC_, NL_\n",
    "    ]\n",
    "]\n",
    "total[\"C\"][\"Palma\"] = column[0]\n",
    "total[\"C\"][\"Gini\"] = column[1]\n",
    "total[\"C\"][\"Plain\"] = column[2]\n",
    "total[\"C\"][\"A\"] = column[3]\n",
    "total[\"C\"][\"Npp\"] = column[4]\n",
    "total[\"C\"][\"Nre\"] = column[5]\n",
    "total[\"C\"][\"ABC\"] = column[6]\n",
    "total[\"C\"][\"NL\"] = column[7]\n",
    "total[\"C\"][\"Prop\"] = np.mean(props)\n",
    "print(len(CN), len(ABC), len(NL))\n",
    "print(column)"
   ]
  },
  {
   "cell_type": "markdown",
   "id": "polyphonic-equation",
   "metadata": {},
   "source": [
    "# D"
   ]
  },
  {
   "cell_type": "code",
   "execution_count": 13,
   "id": "skilled-affiliation",
   "metadata": {
    "scrolled": true
   },
   "outputs": [
    {
     "name": "stdout",
     "output_type": "stream",
     "text": [
      "10 10 10\n",
      "['0.7532 ± 0.0209', '0.7528 ± 0.0207', '0.5 ± 0.0', '0.5953 ± 0.0247', '0.7406 ± 0.0152', '0.6079 ± 0.0234', '0.6066 ± 0.0016', '0.6269 ± 0.005']\n"
     ]
    }
   ],
   "source": [
    "CN = [op.join(\"../models\", a) for a in \n",
    "     list(filter(lambda x: is_CN(x) and is_HAM(x) and is_SD(x), fns))]\n",
    "ABC = [op.join(\"../models\", a) for a in \n",
    "     list(filter(lambda x: is_ABC(x) and is_HAM(x) and is_SD(x), fns))]\n",
    "NL = [op.join(\"../models\", a) for a in \n",
    "     list(filter(lambda x: is_NL(x) and is_HAM(x) and is_SD(x), fns))]\n",
    "CN_plain = [results.read_CN(a, \"plain\", roc_auc_score) for a in CN]\n",
    "CN_gini = [results.read_CN(a, \"gini\", roc_auc_score) for a in CN]\n",
    "CN_palma = [results.read_CN(a, \"palma\", roc_auc_score) for a in CN]\n",
    "CN_a = [results.read_CN(a, \"anomaly_score\", roc_auc_score) for a in CN]\n",
    "CN_npp = [results.read_CN(a, \"n_pp\", roc_auc_score) for a in CN]\n",
    "CN_nre = [results.read_CN(a, \"n_re\", roc_auc_score) for a in CN]\n",
    "ABC_ = [results.read_ABCNL(a, roc_auc_score) for a in ABC]\n",
    "NL_ = [results.read_ABCNL(a, roc_auc_score) for a in NL]\n",
    "props = [results.proportions(a) for a in CN]\n",
    "column = [\n",
    "    str(np.mean(a).round(4))+\" ± \"+str(np.std(a).round(4)) for a in [\n",
    "        CN_palma, CN_gini, CN_plain, CN_a, CN_npp, CN_nre, ABC_, NL_\n",
    "    ]\n",
    "]\n",
    "total[\"D\"][\"Palma\"] = column[0]\n",
    "total[\"D\"][\"Gini\"] = column[1]\n",
    "total[\"D\"][\"Plain\"] = column[2]\n",
    "total[\"D\"][\"A\"] = column[3]\n",
    "total[\"D\"][\"Npp\"] = column[4]\n",
    "total[\"D\"][\"Nre\"] = column[5]\n",
    "total[\"D\"][\"ABC\"] = column[6]\n",
    "total[\"D\"][\"NL\"] = column[7]\n",
    "total[\"D\"][\"Prop\"] = np.mean(props)\n",
    "print(len(CN), len(ABC), len(NL))\n",
    "print(column)"
   ]
  },
  {
   "cell_type": "markdown",
   "id": "edafe7cb",
   "metadata": {},
   "source": [
    "# Results"
   ]
  },
  {
   "cell_type": "code",
   "execution_count": 14,
   "id": "e9abb9e8",
   "metadata": {},
   "outputs": [],
   "source": [
    "total_df = pd.DataFrame(total)"
   ]
  },
  {
   "cell_type": "code",
   "execution_count": 15,
   "id": "e035ff38",
   "metadata": {},
   "outputs": [
    {
     "data": {
      "text/html": [
       "<div>\n",
       "<style scoped>\n",
       "    .dataframe tbody tr th:only-of-type {\n",
       "        vertical-align: middle;\n",
       "    }\n",
       "\n",
       "    .dataframe tbody tr th {\n",
       "        vertical-align: top;\n",
       "    }\n",
       "\n",
       "    .dataframe thead th {\n",
       "        text-align: right;\n",
       "    }\n",
       "</style>\n",
       "<table border=\"1\" class=\"dataframe\">\n",
       "  <thead>\n",
       "    <tr style=\"text-align: right;\">\n",
       "      <th></th>\n",
       "      <th>A</th>\n",
       "      <th>B</th>\n",
       "      <th>C</th>\n",
       "      <th>D</th>\n",
       "    </tr>\n",
       "  </thead>\n",
       "  <tbody>\n",
       "    <tr>\n",
       "      <th>Palma</th>\n",
       "      <td>0.7348 ± 0.016</td>\n",
       "      <td>0.7312 ± 0.0137</td>\n",
       "      <td>0.788 ± 0.0165</td>\n",
       "      <td>0.7532 ± 0.0209</td>\n",
       "    </tr>\n",
       "    <tr>\n",
       "      <th>Gini</th>\n",
       "      <td>0.7347 ± 0.0157</td>\n",
       "      <td>0.7312 ± 0.0137</td>\n",
       "      <td>0.7883 ± 0.0163</td>\n",
       "      <td>0.7528 ± 0.0207</td>\n",
       "    </tr>\n",
       "    <tr>\n",
       "      <th>Plain</th>\n",
       "      <td>0.5 ± 0.0</td>\n",
       "      <td>0.5 ± 0.0</td>\n",
       "      <td>0.4996 ± 0.0005</td>\n",
       "      <td>0.5 ± 0.0</td>\n",
       "    </tr>\n",
       "    <tr>\n",
       "      <th>A</th>\n",
       "      <td>0.5693 ± 0.012</td>\n",
       "      <td>0.5815 ± 0.0216</td>\n",
       "      <td>0.5849 ± 0.0129</td>\n",
       "      <td>0.5953 ± 0.0247</td>\n",
       "    </tr>\n",
       "    <tr>\n",
       "      <th>Npp</th>\n",
       "      <td>0.695 ± 0.0055</td>\n",
       "      <td>0.7204 ± 0.012</td>\n",
       "      <td>0.7468 ± 0.0099</td>\n",
       "      <td>0.7406 ± 0.0152</td>\n",
       "    </tr>\n",
       "    <tr>\n",
       "      <th>Nre</th>\n",
       "      <td>0.5675 ± 0.0122</td>\n",
       "      <td>0.5945 ± 0.02</td>\n",
       "      <td>0.5848 ± 0.0132</td>\n",
       "      <td>0.6079 ± 0.0234</td>\n",
       "    </tr>\n",
       "    <tr>\n",
       "      <th>ABC</th>\n",
       "      <td>0.5456 ± 0.0027</td>\n",
       "      <td>0.5888 ± 0.003</td>\n",
       "      <td>0.571 ± 0.0076</td>\n",
       "      <td>0.6066 ± 0.0016</td>\n",
       "    </tr>\n",
       "    <tr>\n",
       "      <th>NL</th>\n",
       "      <td>0.5865 ± 0.003</td>\n",
       "      <td>0.5908 ± 0.0046</td>\n",
       "      <td>0.6173 ± 0.0037</td>\n",
       "      <td>0.6269 ± 0.005</td>\n",
       "    </tr>\n",
       "    <tr>\n",
       "      <th>Prop</th>\n",
       "      <td>20.072002</td>\n",
       "      <td>11.820247</td>\n",
       "      <td>11.806095</td>\n",
       "      <td>11.806095</td>\n",
       "    </tr>\n",
       "  </tbody>\n",
       "</table>\n",
       "</div>"
      ],
      "text/plain": [
       "                     A                B                C                D\n",
       "Palma   0.7348 ± 0.016  0.7312 ± 0.0137   0.788 ± 0.0165  0.7532 ± 0.0209\n",
       "Gini   0.7347 ± 0.0157  0.7312 ± 0.0137  0.7883 ± 0.0163  0.7528 ± 0.0207\n",
       "Plain        0.5 ± 0.0        0.5 ± 0.0  0.4996 ± 0.0005        0.5 ± 0.0\n",
       "A       0.5693 ± 0.012  0.5815 ± 0.0216  0.5849 ± 0.0129  0.5953 ± 0.0247\n",
       "Npp     0.695 ± 0.0055   0.7204 ± 0.012  0.7468 ± 0.0099  0.7406 ± 0.0152\n",
       "Nre    0.5675 ± 0.0122    0.5945 ± 0.02  0.5848 ± 0.0132  0.6079 ± 0.0234\n",
       "ABC    0.5456 ± 0.0027   0.5888 ± 0.003   0.571 ± 0.0076  0.6066 ± 0.0016\n",
       "NL      0.5865 ± 0.003  0.5908 ± 0.0046  0.6173 ± 0.0037   0.6269 ± 0.005\n",
       "Prop         20.072002        11.820247        11.806095        11.806095"
      ]
     },
     "execution_count": 15,
     "metadata": {},
     "output_type": "execute_result"
    }
   ],
   "source": [
    "total_df"
   ]
  },
  {
   "cell_type": "code",
   "execution_count": 16,
   "id": "7c8fb672",
   "metadata": {},
   "outputs": [],
   "source": [
    "total_df.to_excel(\"Table4.xlsx\")"
   ]
  }
 ],
 "metadata": {
  "kernelspec": {
   "display_name": "Python 3",
   "language": "python",
   "name": "python3"
  },
  "language_info": {
   "codemirror_mode": {
    "name": "ipython",
    "version": 3
   },
   "file_extension": ".py",
   "mimetype": "text/x-python",
   "name": "python",
   "nbconvert_exporter": "python",
   "pygments_lexer": "ipython3",
   "version": "3.9.12"
  }
 },
 "nbformat": 4,
 "nbformat_minor": 5
}
