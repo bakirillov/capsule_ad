{
 "cells": [
  {
   "cell_type": "code",
   "execution_count": 1,
   "id": "familiar-pharmacology",
   "metadata": {},
   "outputs": [],
   "source": [
    "import os\n",
    "import re\n",
    "import results\n",
    "import numpy as np\n",
    "import pandas as pd\n",
    "import os.path as op\n",
    "from sklearn.metrics import roc_auc_score, average_precision_score"
   ]
  },
  {
   "cell_type": "code",
   "execution_count": 2,
   "id": "touched-spring",
   "metadata": {},
   "outputs": [],
   "source": [
    "fns = list(filter(lambda x: \".csv\" in x, [a for a in os.walk(\"../models\")][0][2]))"
   ]
  },
  {
   "cell_type": "code",
   "execution_count": 3,
   "id": "whole-width",
   "metadata": {},
   "outputs": [],
   "source": [
    "is_ABC = lambda x: \"ABC\" in x\n",
    "is_NL = lambda x: \"NL\" in x\n",
    "is_CN = lambda x: \"CN\" in x\n",
    "is_SDI = lambda x: \"SDI\" in x\n",
    "is_SDO = lambda x: \"_SDO\" in x\n",
    "is_01 = lambda x: \"_0.1_\" in x\n",
    "is_1 = lambda x: \"_1_\" in x\n",
    "is_10 = lambda x: \"_10_\" in x\n",
    "is_SA = lambda x: \"_SA\" in x\n",
    "is_SB = lambda x: \"_SB\" in x\n",
    "is_SC = lambda x: \"_SC\" in x\n",
    "is_SD = lambda x: \"_SD\" in x\n",
    "is_test = lambda x: \"test\" in x\n",
    "is_train = lambda x: \"train\" in x\n",
    "is_n = lambda x,n: \"_\"+str(n)+\"_\" in x\n",
    "is_MNIST = lambda x: re.search(\"^MNIST\", x)\n",
    "is_FMNIST = lambda x: re.search(\"FMNIST\", x)\n",
    "is_KMNIST = lambda x: re.search(\"KMNIST\", x)\n",
    "is_CIFAR = lambda x: re.search(\"CIFAR\", x)\n",
    "is_HAM = lambda x: re.search(\"HAM\", x)\n",
    "is_PENG = lambda x: re.search(\"PENG\", x)"
   ]
  },
  {
   "cell_type": "code",
   "execution_count": 4,
   "id": "moral-january",
   "metadata": {},
   "outputs": [],
   "source": [
    "fns = list(filter(is_test, fns))"
   ]
  },
  {
   "cell_type": "code",
   "execution_count": 5,
   "id": "electoral-crest",
   "metadata": {},
   "outputs": [
    {
     "name": "stdout",
     "output_type": "stream",
     "text": [
      "10 10 10\n",
      "['0.9631 ± 0.0125', '0.9666 ± 0.0118', '0.7518 ± 0.0404', '0.6131 ± 0.0332', '0.9147 ± 0.0144', '0.6756 ± 0.0372', '0.5314 ± 0.0134', '0.5147 ± 0.0483']\n"
     ]
    }
   ],
   "source": [
    "CN = [op.join(\"../models\", a) for a in \n",
    "     list(filter(lambda x: is_CN(x) and is_PENG(x), fns))]\n",
    "ABC = [op.join(\"../models\", a) for a in \n",
    "     list(filter(lambda x: is_ABC(x) and is_PENG(x), fns))]\n",
    "NL = [op.join(\"../models\", a) for a in \n",
    "     list(filter(lambda x: is_NL(x) and is_PENG(x), fns))]\n",
    "CN_plain = [results.read_CN(a, \"plain\", roc_auc_score) for a in CN]\n",
    "CN_gini = [results.read_CN(a, \"gini\", roc_auc_score) for a in CN]\n",
    "CN_palma = [results.read_CN(a, \"palma\", roc_auc_score) for a in CN]\n",
    "CN_a = [results.read_CN(a, \"anomaly_score\", roc_auc_score) for a in CN]\n",
    "CN_npp = [results.read_CN(a, \"n_pp\", roc_auc_score) for a in CN]\n",
    "CN_nre = [results.read_CN(a, \"n_re\", roc_auc_score) for a in CN]\n",
    "ABC_ = [results.read_ABCNL(a, roc_auc_score) for a in ABC]\n",
    "NL_ = [results.read_ABCNL(a, roc_auc_score) for a in NL]\n",
    "column = [\n",
    "    str(np.mean(a).round(4))+\" ± \"+str(np.std(a).round(4)) for a in [\n",
    "        CN_palma, CN_gini, CN_plain, CN_a, CN_npp, CN_nre, ABC_, NL_\n",
    "    ]\n",
    "]\n",
    "print(len(CN), len(ABC), len(NL))\n",
    "print(column)"
   ]
  },
  {
   "cell_type": "code",
   "execution_count": 6,
   "id": "4697aade",
   "metadata": {},
   "outputs": [
    {
     "name": "stdout",
     "output_type": "stream",
     "text": [
      "10 10 10\n",
      "['0.6571 ± 0.0318', '0.6876 ± 0.0264', '0.4059 ± 0.034', '0.2535 ± 0.0327', '0.304 ± 0.0701', '0.2725 ± 0.0328', '0.0271 ± 0.0007', '0.0264 ± 0.0044']\n"
     ]
    }
   ],
   "source": [
    "CN = [op.join(\"../models\", a) for a in \n",
    "     list(filter(lambda x: is_CN(x) and is_PENG(x), fns))]\n",
    "ABC = [op.join(\"../models\", a) for a in \n",
    "     list(filter(lambda x: is_ABC(x) and is_PENG(x), fns))]\n",
    "NL = [op.join(\"../models\", a) for a in \n",
    "     list(filter(lambda x: is_NL(x) and is_PENG(x), fns))]\n",
    "CN_plain = [results.read_CN(a, \"plain\", average_precision_score) for a in CN]\n",
    "CN_gini = [results.read_CN(a, \"gini\", average_precision_score) for a in CN]\n",
    "CN_palma = [results.read_CN(a, \"palma\", average_precision_score) for a in CN]\n",
    "CN_a = [results.read_CN(a, \"anomaly_score\", average_precision_score) for a in CN]\n",
    "CN_npp = [results.read_CN(a, \"n_pp\", average_precision_score) for a in CN]\n",
    "CN_nre = [results.read_CN(a, \"n_re\", average_precision_score) for a in CN]\n",
    "ABC_ = [results.read_ABCNL(a, average_precision_score) for a in ABC]\n",
    "NL_ = [results.read_ABCNL(a, average_precision_score) for a in NL]\n",
    "column = [\n",
    "    str(np.mean(a).round(4))+\" ± \"+str(np.std(a).round(4)) for a in [\n",
    "        CN_palma, CN_gini, CN_plain, CN_a, CN_npp, CN_nzre, ABC_, NL_\n",
    "    ]\n",
    "]\n",
    "print(len(CN), len(ABC), len(NL))\n",
    "print(column)"
   ]
  }
 ],
 "metadata": {
  "kernelspec": {
   "display_name": "Python [conda env:research] *",
   "language": "python",
   "name": "conda-env-research-py"
  },
  "language_info": {
   "codemirror_mode": {
    "name": "ipython",
    "version": 3
   },
   "file_extension": ".py",
   "mimetype": "text/x-python",
   "name": "python",
   "nbconvert_exporter": "python",
   "pygments_lexer": "ipython3",
   "version": "3.9.12"
  }
 },
 "nbformat": 4,
 "nbformat_minor": 5
}
