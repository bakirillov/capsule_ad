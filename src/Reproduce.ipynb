{
 "cells": [
  {
   "cell_type": "markdown",
   "id": "incorporated-alcohol",
   "metadata": {},
   "source": [
    "1. Run DataDownload.ipynb;\n",
    "2. Run DataPreparation.ipynb;\n",
    "3. Run ```git clone https://github.com/bakirillov/capsules.git``` while in the src directory;\n",
    "4. Run the rest of Reproduce.ipynb;\n",
    "5. Run reproduce_all.sh;\n",
    "6. Run Table2.ipynb, Table3.ipynb, Table4.ipynb and Peng_result.ipynb;\n",
    "7. Run Figure1.py;\n",
    "8. Run Figure2.ipynb."
   ]
  },
  {
   "cell_type": "code",
   "execution_count": 2,
   "id": "negative-saint",
   "metadata": {},
   "outputs": [],
   "source": [
    "cmd = \"python train_model.py -d DS -t TYPE -m MOD -l LB -e EP -p PRO -o ../models/ -s 1 -i\""
   ]
  },
  {
   "cell_type": "markdown",
   "id": "social-sperm",
   "metadata": {},
   "source": [
    "# Peng et al"
   ]
  },
  {
   "cell_type": "code",
   "execution_count": 2,
   "id": "active-eligibility",
   "metadata": {},
   "outputs": [],
   "source": [
    "with open(\"train_supervised_PENG.sh\", \"w\") as oh:\n",
    "    oh.write(\"#!/bin/sh\\n\\n\\n\")\n",
    "    for a,e in zip([\"CN\", \"ABC\", \"NL\"], [\"50\", \"300\", \"300\"]):\n",
    "        for p in [\"None\"]:\n",
    "            for s in \"0,1,2,3,4,5,6,7,8,9\".split(\",\"):\n",
    "                oh.write(\n",
    "                    cmd.replace(\n",
    "                        \"MOD\", a\n",
    "                    ).replace(\"DS\", \"PENG\").replace(\n",
    "                        \"TYPE\", \"SDI\"\n",
    "                    ).replace(\"-l LB\", \"\").replace(\n",
    "                        \"EP\", e\n",
    "                    ).replace(\"PRO\", p).replace(\"-i\", \"\").replace(\n",
    "                        \"-s 1\", \"-s \"+s\n",
    "                    )+\"\\n\"\n",
    "                )"
   ]
  },
  {
   "cell_type": "code",
   "execution_count": 3,
   "id": "neural-mentor",
   "metadata": {},
   "outputs": [],
   "source": [
    "with open(\"test_supervised_PENG.sh\", \"w\") as oh:\n",
    "    oh.write(\"#!/bin/sh\\n\\n\\n\")\n",
    "    for a,e in zip([\"CN\", \"ABC\", \"NL\"], [\"10\", \"300\", \"300\"]):\n",
    "        for p in [\"None\"]:\n",
    "            for s in \"0,1,2,3,4,5,6,7,8,9\".split(\",\"):\n",
    "                oh.write(\n",
    "                    cmd.replace(\n",
    "                        \"MOD\", a\n",
    "                    ).replace(\"DS\", \"PENG\").replace(\n",
    "                        \"TYPE\", \"SDI\"\n",
    "                    ).replace(\"-l LB\", \"\").replace(\n",
    "                        \"EP\", e\n",
    "                    ).replace(\"PRO\", p).replace(\"-i\", \"\").replace(\n",
    "                        \"-s 1\", \"-s \"+s\n",
    "                    ).replace(\n",
    "                        \"train_model\", \"compute_metrics\"\n",
    "                    )+\"\\n\"\n",
    "                )"
   ]
  },
  {
   "cell_type": "markdown",
   "id": "automatic-power",
   "metadata": {},
   "source": [
    "# HAM10000"
   ]
  },
  {
   "cell_type": "code",
   "execution_count": 3,
   "id": "beneficial-premiere",
   "metadata": {},
   "outputs": [],
   "source": [
    "with open(\"train_supervised_HAM10000.sh\", \"w\") as oh:\n",
    "    oh.write(\"#!/bin/sh\\n\\n\\n\")\n",
    "    for a,e in zip([\"CN\", \"ABC\", \"NL\"], [\"10\", \"300\", \"300\"]):\n",
    "        for c in [\"SA\", \"SB\", \"SC\", \"SD\"]:\n",
    "            for p in [\"None\"]:\n",
    "                for s in \"0,1,2,3,4,5,6,7,8,9\".split(\",\"):\n",
    "                    oh.write(\n",
    "                        cmd.replace(\n",
    "                            \"MOD\", a\n",
    "                        ).replace(\"DS\", \"HAM10000\").replace(\n",
    "                            \"TYPE\", c\n",
    "                        ).replace(\"-l LB\", \"\").replace(\n",
    "                            \"-s 1\", \"-s \"+s\n",
    "                        ).replace(\n",
    "                            \"EP\", e\n",
    "                        ).replace(\"PRO\", p)+\"\\n\"\n",
    "                    )"
   ]
  },
  {
   "cell_type": "code",
   "execution_count": 4,
   "id": "extended-incidence",
   "metadata": {},
   "outputs": [],
   "source": [
    "with open(\"test_supervised_HAM10000.sh\", \"w\") as oh:\n",
    "    oh.write(\"#!/bin/sh\\n\\n\\n\")\n",
    "    for a,e in zip([\"CN\", \"ABC\", \"NL\"], [\"10\", \"300\", \"300\"]):\n",
    "        for c in [\"SA\", \"SB\", \"SC\", \"SD\"]:\n",
    "            for p in [\"None\"]:\n",
    "                for s in \"0,1,2,3,4,5,6,7,8,9\".split(\",\"):\n",
    "                    oh.write(\n",
    "                        cmd.replace(\n",
    "                            \"MOD\", a\n",
    "                        ).replace(\"DS\", \"HAM10000\").replace(\n",
    "                            \"TYPE\", c\n",
    "                        ).replace(\"-l LB\", \"\").replace(\n",
    "                            \"-s 1\", \"-s \"+s\n",
    "                        ).replace(\n",
    "                            \"EP\", e\n",
    "                        ).replace(\"PRO\", p).replace(\n",
    "                            \"train_model\", \"compute_metrics\"\n",
    "                        )+\"\\n\"\n",
    "                    )"
   ]
  },
  {
   "cell_type": "markdown",
   "id": "invalid-glenn",
   "metadata": {},
   "source": [
    "# MNIST-like"
   ]
  },
  {
   "cell_type": "code",
   "execution_count": 6,
   "id": "complex-straight",
   "metadata": {},
   "outputs": [],
   "source": [
    "for b in [\"MNIST\", \"FMNIST\", \"KMNIST\", \"CIFAR10\"]:\n",
    "    with open(\"train_supervised_DS.sh\".replace(\"DS\", b), \"w\") as oh:\n",
    "        oh.write(\"#!/bin/sh\\n\\n\\n\")\n",
    "        for a,e in zip([\"CN\", \"ABC\", \"NL\"], [\"10\", \"300\", \"300\"]):\n",
    "            for c in [\"SDI\", \"SDO\"]:\n",
    "                for d in \"0,1,2,3,4,5,6,7,8,9\".split(\",\"):\n",
    "                    for p in [\"10\", \"1\", \"0.1\"]:\n",
    "                        oh.write(\n",
    "                            cmd.replace(\n",
    "                                \"MOD\", a\n",
    "                            ).replace(\"DS\", b).replace(\n",
    "                                \"TYPE\", c\n",
    "                            ).replace(\"LB\", d).replace(\n",
    "                                \"EP\", e\n",
    "                            ).replace(\"PRO\", p)+\"\\n\"\n",
    "                        )"
   ]
  },
  {
   "cell_type": "code",
   "execution_count": 7,
   "id": "educational-campus",
   "metadata": {},
   "outputs": [],
   "source": [
    "for b in [\"MNIST\", \"FMNIST\", \"KMNIST\", \"CIFAR10\"]:\n",
    "    with open(\"test_supervised_DS.sh\".replace(\"DS\", b), \"w\") as oh:\n",
    "        oh.write(\"#!/bin/sh\\n\\n\\n\")\n",
    "        for a,e in zip([\"CN\", \"ABC\", \"NL\"], [\"10\", \"300\", \"300\"]):\n",
    "            for c in [\"SDI\", \"SDO\"]:\n",
    "                for d in \"0,1,2,3,4,5,6,7,8,9\".split(\",\"):\n",
    "                    for p in [\"10\", \"1\", \"0.1\"]:\n",
    "                        oh.write(\n",
    "                            cmd.replace(\n",
    "                                \"MOD\", a\n",
    "                            ).replace(\"DS\", b).replace(\n",
    "                                \"TYPE\", c\n",
    "                            ).replace(\"LB\", d).replace(\n",
    "                                \"EP\", e\n",
    "                            ).replace(\"PRO\", p).replace(\n",
    "                                \"train_model\", \"compute_metrics\"\n",
    "                            )+\"\\n\"\n",
    "                        )"
   ]
  },
  {
   "cell_type": "markdown",
   "id": "fantastic-coordination",
   "metadata": {},
   "source": [
    "# Reproduce all"
   ]
  },
  {
   "cell_type": "code",
   "execution_count": 8,
   "id": "numerous-hindu",
   "metadata": {},
   "outputs": [],
   "source": [
    "with open(\"reproduce_all.sh\", \"w\") as oh:\n",
    "    oh.write(\"#!/bin/sh\\n\\n\\n\")\n",
    "    oh.write(\"sh train_supervised_FMNIST.sh\\n\")\n",
    "    oh.write(\"sh train_supervised_KMNIST.sh\\n\")\n",
    "    oh.write(\"sh train_supervised_MNIST.sh\\n\")\n",
    "    oh.write(\"sh train_supervised_CIFAR.sh\\n\")\n",
    "    oh.write(\"sh train_supervised_PENG.sh\\n\")\n",
    "    oh.write(\"sh train_supervised_HAM10000.sh\\n\")\n",
    "    oh.write(\"sh test_supervised_FMNIST.sh\\n\")\n",
    "    oh.write(\"sh test_supervised_KMNIST.sh\\n\")\n",
    "    oh.write(\"sh test_supervised_MNIST.sh\\n\")\n",
    "    oh.write(\"sh test_supervised_CIFAR.sh\\n\")\n",
    "    oh.write(\"sh test_supervised_PENG.sh\\n\")\n",
    "    oh.write(\"sh test_supervised_HAM10000.sh\\n\")"
   ]
  }
 ],
 "metadata": {
  "kernelspec": {
   "display_name": "Python 3",
   "language": "python",
   "name": "python3"
  },
  "language_info": {
   "codemirror_mode": {
    "name": "ipython",
    "version": 3
   },
   "file_extension": ".py",
   "mimetype": "text/x-python",
   "name": "python",
   "nbconvert_exporter": "python",
   "pygments_lexer": "ipython3",
   "version": "3.9.12"
  }
 },
 "nbformat": 4,
 "nbformat_minor": 5
}
