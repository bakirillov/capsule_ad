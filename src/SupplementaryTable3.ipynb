{
 "cells": [
  {
   "cell_type": "code",
   "execution_count": 13,
   "id": "familiar-pharmacology",
   "metadata": {},
   "outputs": [],
   "source": [
    "import os\n",
    "import re\n",
    "import results\n",
    "import numpy as np\n",
    "import pandas as pd\n",
    "import os.path as op\n",
    "from sklearn.metrics import average_precision_score"
   ]
  },
  {
   "cell_type": "code",
   "execution_count": 14,
   "id": "touched-spring",
   "metadata": {},
   "outputs": [],
   "source": [
    "fns = list(filter(lambda x: \".csv\" in x, [a for a in os.walk(\"../models\")][0][2]))"
   ]
  },
  {
   "cell_type": "code",
   "execution_count": 15,
   "id": "whole-width",
   "metadata": {},
   "outputs": [],
   "source": [
    "is_ABC = lambda x: \"ABC\" in x\n",
    "is_NL = lambda x: \"NL\" in x\n",
    "is_CN = lambda x: \"CN\" in x\n",
    "is_SDI = lambda x: \"SDI\" in x\n",
    "is_SDO = lambda x: \"_SDO\" in x\n",
    "is_01 = lambda x: \"_0.1_\" in x\n",
    "is_1 = lambda x: \"_1_\" in x\n",
    "is_10 = lambda x: \"_10_\" in x\n",
    "is_SA = lambda x: \"_SA\" in x\n",
    "is_SB = lambda x: \"_SB\" in x\n",
    "is_SC = lambda x: \"_SC\" in x\n",
    "is_SD = lambda x: \"_SD\" in x\n",
    "is_test = lambda x: \"test\" in x\n",
    "is_train = lambda x: \"train\" in x\n",
    "is_n = lambda x,n: \"_\"+str(n)+\"_\" in x\n",
    "is_MNIST = lambda x: re.search(\"^MNIST\", x)\n",
    "is_FMNIST = lambda x: re.search(\"FMNIST\", x)\n",
    "is_KMNIST = lambda x: re.search(\"KMNIST\", x)\n",
    "is_CIFAR = lambda x: re.search(\"CIFAR\", x)\n",
    "is_HAM = lambda x: re.search(\"HAM\", x)\n",
    "is_PENG = lambda x: re.search(\"PENG\", x)"
   ]
  },
  {
   "cell_type": "code",
   "execution_count": 16,
   "id": "moral-january",
   "metadata": {},
   "outputs": [],
   "source": [
    "fns = list(filter(is_test, fns))"
   ]
  },
  {
   "cell_type": "code",
   "execution_count": 17,
   "id": "e7a5b96f",
   "metadata": {},
   "outputs": [],
   "source": [
    "total = {\n",
    "    \"A\": {\n",
    "        \"Palma\": None,\n",
    "        \"Gini\": None,\n",
    "        \"Plain\": None,\n",
    "        \"A\": None,\n",
    "        \"Npp\": None,\n",
    "        \"Nre\": None,\n",
    "        \"ABC\": None,\n",
    "        \"NL\": None,\n",
    "        \"Proportion\": None,\n",
    "    },\n",
    "    \"B\": {\n",
    "        \"Palma\": None,\n",
    "        \"Gini\": None,\n",
    "        \"Plain\": None,\n",
    "        \"A\": None,\n",
    "        \"Npp\": None,\n",
    "        \"Nre\": None,\n",
    "        \"ABC\": None,\n",
    "        \"NL\": None,\n",
    "        \"Proportion\": None,\n",
    "    },\n",
    "    \"C\": {\n",
    "        \"Palma\": None,\n",
    "        \"Gini\": None,\n",
    "        \"Plain\": None,\n",
    "        \"A\": None,\n",
    "        \"Npp\": None,\n",
    "        \"Nre\": None,\n",
    "        \"ABC\": None,\n",
    "        \"NL\": None,\n",
    "        \"Proportion\": None,\n",
    "    },\n",
    "    \"D\": {\n",
    "        \"Palma\": None,\n",
    "        \"Gini\": None,\n",
    "        \"Plain\": None,\n",
    "        \"A\": None,\n",
    "        \"Npp\": None,\n",
    "        \"Nre\": None,\n",
    "        \"ABC\": None,\n",
    "        \"NL\": None,\n",
    "        \"Proportion\": None,\n",
    "    },\n",
    "}"
   ]
  },
  {
   "cell_type": "markdown",
   "id": "hispanic-purse",
   "metadata": {},
   "source": [
    "# A"
   ]
  },
  {
   "cell_type": "code",
   "execution_count": 18,
   "id": "electoral-crest",
   "metadata": {},
   "outputs": [
    {
     "name": "stdout",
     "output_type": "stream",
     "text": [
      "10 10 10\n",
      "['0.3389 ± 0.0329', '0.3382 ± 0.0312', '0.1893 ± 0.0', '0.2251 ± 0.0042', '0.2694 ± 0.0067', '0.2268 ± 0.0049', '0.2081 ± 0.0008', '0.2254 ± 0.0014']\n"
     ]
    }
   ],
   "source": [
    "CN = [op.join(\"../models\", a) for a in \n",
    "     list(filter(lambda x: is_CN(x) and is_HAM(x) and is_SA(x), fns))]\n",
    "ABC = [op.join(\"../models\", a) for a in \n",
    "     list(filter(lambda x: is_ABC(x) and is_HAM(x) and is_SA(x), fns))]\n",
    "NL = [op.join(\"../models\", a) for a in \n",
    "     list(filter(lambda x: is_NL(x) and is_HAM(x) and is_SA(x), fns))]\n",
    "CN_plain = [results.read_CN(a, \"plain\", average_precision_score) for a in CN]\n",
    "CN_gini = [results.read_CN(a, \"gini\", average_precision_score) for a in CN]\n",
    "CN_palma = [results.read_CN(a, \"palma\", average_precision_score) for a in CN]\n",
    "CN_a = [results.read_CN(a, \"anomaly_score\", average_precision_score) for a in CN]\n",
    "CN_npp = [results.read_CN(a, \"n_pp\", average_precision_score) for a in CN]\n",
    "CN_nre = [results.read_CN(a, \"n_re\", average_precision_score) for a in CN]\n",
    "ABC_ = [results.read_ABCNL(a, average_precision_score) for a in ABC]\n",
    "NL_ = [results.read_ABCNL(a, average_precision_score) for a in NL]\n",
    "props = [results.proportions(a) for a in CN]\n",
    "column = [\n",
    "    str(np.mean(a).round(4))+\" ± \"+str(np.std(a).round(4)) for a in [\n",
    "        CN_palma, CN_gini, CN_plain, CN_a, CN_npp, CN_nre, ABC_, NL_\n",
    "    ]\n",
    "]\n",
    "total[\"A\"][\"Palma\"] = column[0]\n",
    "total[\"A\"][\"Gini\"] = column[1]\n",
    "total[\"A\"][\"Plain\"] = column[2]\n",
    "total[\"A\"][\"A\"] = column[3]\n",
    "total[\"A\"][\"Npp\"] = column[4]\n",
    "total[\"A\"][\"Nre\"] = column[5]\n",
    "total[\"A\"][\"ABC\"] = column[6]\n",
    "total[\"A\"][\"NL\"] = column[7]\n",
    "total[\"A\"][\"Proportion\"] = np.mean(props)/100\n",
    "print(len(CN), len(ABC), len(NL))\n",
    "print(column)"
   ]
  },
  {
   "cell_type": "markdown",
   "id": "virtual-northwest",
   "metadata": {},
   "source": [
    "# B"
   ]
  },
  {
   "cell_type": "code",
   "execution_count": 19,
   "id": "rural-herald",
   "metadata": {},
   "outputs": [
    {
     "name": "stdout",
     "output_type": "stream",
     "text": [
      "10 10 10\n",
      "['0.2029 ± 0.0132', '0.2032 ± 0.0131', '0.1095 ± 0.0', '0.1541 ± 0.0051', '0.1912 ± 0.0142', '0.1598 ± 0.0037', '0.1438 ± 0.0009', '0.1388 ± 0.0017']\n"
     ]
    }
   ],
   "source": [
    "CN = [op.join(\"../models\", a) for a in \n",
    "     list(filter(lambda x: is_CN(x) and is_HAM(x) and is_SB(x), fns))]\n",
    "ABC = [op.join(\"../models\", a) for a in \n",
    "     list(filter(lambda x: is_ABC(x) and is_HAM(x) and is_SB(x), fns))]\n",
    "NL = [op.join(\"../models\", a) for a in \n",
    "     list(filter(lambda x: is_NL(x) and is_HAM(x) and is_SB(x), fns))]\n",
    "CN_plain = [results.read_CN(a, \"plain\", average_precision_score) for a in CN]\n",
    "CN_gini = [results.read_CN(a, \"gini\", average_precision_score) for a in CN]\n",
    "CN_palma = [results.read_CN(a, \"palma\", average_precision_score) for a in CN]\n",
    "CN_a = [results.read_CN(a, \"anomaly_score\", average_precision_score) for a in CN]\n",
    "CN_npp = [results.read_CN(a, \"n_pp\", average_precision_score) for a in CN]\n",
    "CN_nre = [results.read_CN(a, \"n_re\", average_precision_score) for a in CN]\n",
    "ABC_ = [results.read_ABCNL(a, average_precision_score) for a in ABC]\n",
    "NL_ = [results.read_ABCNL(a, average_precision_score) for a in NL]\n",
    "props = [results.proportions(a) for a in CN]\n",
    "column = [\n",
    "    str(np.mean(a).round(4))+\" ± \"+str(np.std(a).round(4)) for a in [\n",
    "        CN_palma, CN_gini, CN_plain, CN_a, CN_npp, CN_nre, ABC_, NL_\n",
    "    ]\n",
    "]\n",
    "total[\"B\"][\"Palma\"] = column[0]\n",
    "total[\"B\"][\"Gini\"] = column[1]\n",
    "total[\"B\"][\"Plain\"] = column[2]\n",
    "total[\"B\"][\"A\"] = column[3]\n",
    "total[\"B\"][\"Npp\"] = column[4]\n",
    "total[\"B\"][\"Nre\"] = column[5]\n",
    "total[\"B\"][\"ABC\"] = column[6]\n",
    "total[\"B\"][\"NL\"] = column[7]\n",
    "total[\"B\"][\"Proportion\"] = np.mean(props)/100\n",
    "print(len(CN), len(ABC), len(NL))\n",
    "print(column)"
   ]
  },
  {
   "cell_type": "markdown",
   "id": "vocal-planning",
   "metadata": {},
   "source": [
    "# C"
   ]
  },
  {
   "cell_type": "code",
   "execution_count": 20,
   "id": "warming-washington",
   "metadata": {},
   "outputs": [
    {
     "name": "stdout",
     "output_type": "stream",
     "text": [
      "10 10 10\n",
      "['0.4806 ± 0.0493', '0.4812 ± 0.0485', '0.2165 ± 0.0', '0.2631 ± 0.0039', '0.3545 ± 0.0132', '0.266 ± 0.0045', '0.2579 ± 0.0032', '0.2834 ± 0.0023']\n"
     ]
    }
   ],
   "source": [
    "CN = [op.join(\"../models\", a) for a in \n",
    "     list(filter(lambda x: is_CN(x) and is_HAM(x) and is_SC(x), fns))]\n",
    "ABC = [op.join(\"../models\", a) for a in \n",
    "     list(filter(lambda x: is_ABC(x) and is_HAM(x) and is_SC(x), fns))]\n",
    "NL = [op.join(\"../models\", a) for a in \n",
    "     list(filter(lambda x: is_NL(x) and is_HAM(x) and is_SC(x), fns))]\n",
    "CN_plain = [results.read_CN(a, \"plain\", average_precision_score) for a in CN]\n",
    "CN_gini = [results.read_CN(a, \"gini\", average_precision_score) for a in CN]\n",
    "CN_palma = [results.read_CN(a, \"palma\", average_precision_score) for a in CN]\n",
    "CN_a = [results.read_CN(a, \"anomaly_score\", average_precision_score) for a in CN]\n",
    "CN_npp = [results.read_CN(a, \"n_pp\", average_precision_score) for a in CN]\n",
    "CN_nre = [results.read_CN(a, \"n_re\", average_precision_score) for a in CN]\n",
    "ABC_ = [results.read_ABCNL(a, average_precision_score) for a in ABC]\n",
    "NL_ = [results.read_ABCNL(a, average_precision_score) for a in NL]\n",
    "props = [results.proportions(a) for a in CN]\n",
    "column = [\n",
    "    str(np.mean(a).round(4))+\" ± \"+str(np.std(a).round(4)) for a in [\n",
    "        CN_palma, CN_gini, CN_plain, CN_a, CN_npp, CN_nre, ABC_, NL_\n",
    "    ]\n",
    "]\n",
    "total[\"C\"][\"Palma\"] = column[0]\n",
    "total[\"C\"][\"Gini\"] = column[1]\n",
    "total[\"C\"][\"Plain\"] = column[2]\n",
    "total[\"C\"][\"A\"] = column[3]\n",
    "total[\"C\"][\"Npp\"] = column[4]\n",
    "total[\"C\"][\"Nre\"] = column[5]\n",
    "total[\"C\"][\"ABC\"] = column[6]\n",
    "total[\"C\"][\"NL\"] = column[7]\n",
    "total[\"C\"][\"Proportion\"] = np.mean(props)/100\n",
    "print(len(CN), len(ABC), len(NL))\n",
    "print(column)"
   ]
  },
  {
   "cell_type": "markdown",
   "id": "polyphonic-equation",
   "metadata": {},
   "source": [
    "# D"
   ]
  },
  {
   "cell_type": "code",
   "execution_count": 21,
   "id": "skilled-affiliation",
   "metadata": {},
   "outputs": [
    {
     "name": "stdout",
     "output_type": "stream",
     "text": [
      "10 10 10\n",
      "['0.2647 ± 0.0319', '0.2637 ± 0.0319', '0.1378 ± 0.0', '0.1892 ± 0.0072', '0.2357 ± 0.0202', '0.1977 ± 0.0064', '0.1945 ± 0.0006', '0.1972 ± 0.0026']\n"
     ]
    }
   ],
   "source": [
    "CN = [op.join(\"../models\", a) for a in \n",
    "     list(filter(lambda x: is_CN(x) and is_HAM(x) and is_SD(x), fns))]\n",
    "ABC = [op.join(\"../models\", a) for a in \n",
    "     list(filter(lambda x: is_ABC(x) and is_HAM(x) and is_SD(x), fns))]\n",
    "NL = [op.join(\"../models\", a) for a in \n",
    "     list(filter(lambda x: is_NL(x) and is_HAM(x) and is_SD(x), fns))]\n",
    "CN_plain = [results.read_CN(a, \"plain\", average_precision_score) for a in CN]\n",
    "CN_gini = [results.read_CN(a, \"gini\", average_precision_score) for a in CN]\n",
    "CN_palma = [results.read_CN(a, \"palma\", average_precision_score) for a in CN]\n",
    "CN_a = [results.read_CN(a, \"anomaly_score\", average_precision_score) for a in CN]\n",
    "CN_npp = [results.read_CN(a, \"n_pp\", average_precision_score) for a in CN]\n",
    "CN_nre = [results.read_CN(a, \"n_re\", average_precision_score) for a in CN]\n",
    "ABC_ = [results.read_ABCNL(a, average_precision_score) for a in ABC]\n",
    "NL_ = [results.read_ABCNL(a, average_precision_score) for a in NL]\n",
    "props = [results.proportions(a) for a in CN]\n",
    "column = [\n",
    "    str(np.mean(a).round(4))+\" ± \"+str(np.std(a).round(4)) for a in [\n",
    "        CN_palma, CN_gini, CN_plain, CN_a, CN_npp, CN_nre, ABC_, NL_\n",
    "    ]\n",
    "]\n",
    "total[\"D\"][\"Palma\"] = column[0]\n",
    "total[\"D\"][\"Gini\"] = column[1]\n",
    "total[\"D\"][\"Plain\"] = column[2]\n",
    "total[\"D\"][\"A\"] = column[3]\n",
    "total[\"D\"][\"Npp\"] = column[4]\n",
    "total[\"D\"][\"Nre\"] = column[5]\n",
    "total[\"D\"][\"ABC\"] = column[6]\n",
    "total[\"D\"][\"NL\"] = column[7]\n",
    "total[\"D\"][\"Proportion\"] = np.mean(props)/100\n",
    "print(len(CN), len(ABC), len(NL))\n",
    "print(column)"
   ]
  },
  {
   "cell_type": "markdown",
   "id": "16abeb58",
   "metadata": {},
   "source": [
    "# Results"
   ]
  },
  {
   "cell_type": "code",
   "execution_count": 22,
   "id": "18bcff07",
   "metadata": {},
   "outputs": [],
   "source": [
    "total_df = pd.DataFrame(total)"
   ]
  },
  {
   "cell_type": "code",
   "execution_count": 23,
   "id": "ff44e80c",
   "metadata": {},
   "outputs": [
    {
     "data": {
      "text/html": [
       "<div>\n",
       "<style scoped>\n",
       "    .dataframe tbody tr th:only-of-type {\n",
       "        vertical-align: middle;\n",
       "    }\n",
       "\n",
       "    .dataframe tbody tr th {\n",
       "        vertical-align: top;\n",
       "    }\n",
       "\n",
       "    .dataframe thead th {\n",
       "        text-align: right;\n",
       "    }\n",
       "</style>\n",
       "<table border=\"1\" class=\"dataframe\">\n",
       "  <thead>\n",
       "    <tr style=\"text-align: right;\">\n",
       "      <th></th>\n",
       "      <th>A</th>\n",
       "      <th>B</th>\n",
       "      <th>C</th>\n",
       "      <th>D</th>\n",
       "    </tr>\n",
       "  </thead>\n",
       "  <tbody>\n",
       "    <tr>\n",
       "      <th>Palma</th>\n",
       "      <td>0.3389 ± 0.0329</td>\n",
       "      <td>0.2029 ± 0.0132</td>\n",
       "      <td>0.4806 ± 0.0493</td>\n",
       "      <td>0.2647 ± 0.0319</td>\n",
       "    </tr>\n",
       "    <tr>\n",
       "      <th>Gini</th>\n",
       "      <td>0.3382 ± 0.0312</td>\n",
       "      <td>0.2032 ± 0.0131</td>\n",
       "      <td>0.4812 ± 0.0485</td>\n",
       "      <td>0.2637 ± 0.0319</td>\n",
       "    </tr>\n",
       "    <tr>\n",
       "      <th>Plain</th>\n",
       "      <td>0.1893 ± 0.0</td>\n",
       "      <td>0.1095 ± 0.0</td>\n",
       "      <td>0.2165 ± 0.0</td>\n",
       "      <td>0.1378 ± 0.0</td>\n",
       "    </tr>\n",
       "    <tr>\n",
       "      <th>A</th>\n",
       "      <td>0.2251 ± 0.0042</td>\n",
       "      <td>0.1541 ± 0.0051</td>\n",
       "      <td>0.2631 ± 0.0039</td>\n",
       "      <td>0.1892 ± 0.0072</td>\n",
       "    </tr>\n",
       "    <tr>\n",
       "      <th>Npp</th>\n",
       "      <td>0.2694 ± 0.0067</td>\n",
       "      <td>0.1912 ± 0.0142</td>\n",
       "      <td>0.3545 ± 0.0132</td>\n",
       "      <td>0.2357 ± 0.0202</td>\n",
       "    </tr>\n",
       "    <tr>\n",
       "      <th>Nre</th>\n",
       "      <td>0.2268 ± 0.0049</td>\n",
       "      <td>0.1598 ± 0.0037</td>\n",
       "      <td>0.266 ± 0.0045</td>\n",
       "      <td>0.1977 ± 0.0064</td>\n",
       "    </tr>\n",
       "    <tr>\n",
       "      <th>ABC</th>\n",
       "      <td>0.2081 ± 0.0008</td>\n",
       "      <td>0.1438 ± 0.0009</td>\n",
       "      <td>0.2579 ± 0.0032</td>\n",
       "      <td>0.1945 ± 0.0006</td>\n",
       "    </tr>\n",
       "    <tr>\n",
       "      <th>NL</th>\n",
       "      <td>0.2254 ± 0.0014</td>\n",
       "      <td>0.1388 ± 0.0017</td>\n",
       "      <td>0.2834 ± 0.0023</td>\n",
       "      <td>0.1972 ± 0.0026</td>\n",
       "    </tr>\n",
       "    <tr>\n",
       "      <th>Proportion</th>\n",
       "      <td>0.20072</td>\n",
       "      <td>0.118202</td>\n",
       "      <td>0.200584</td>\n",
       "      <td>0.118061</td>\n",
       "    </tr>\n",
       "  </tbody>\n",
       "</table>\n",
       "</div>"
      ],
      "text/plain": [
       "                          A                B                C                D\n",
       "Palma       0.3389 ± 0.0329  0.2029 ± 0.0132  0.4806 ± 0.0493  0.2647 ± 0.0319\n",
       "Gini        0.3382 ± 0.0312  0.2032 ± 0.0131  0.4812 ± 0.0485  0.2637 ± 0.0319\n",
       "Plain          0.1893 ± 0.0     0.1095 ± 0.0     0.2165 ± 0.0     0.1378 ± 0.0\n",
       "A           0.2251 ± 0.0042  0.1541 ± 0.0051  0.2631 ± 0.0039  0.1892 ± 0.0072\n",
       "Npp         0.2694 ± 0.0067  0.1912 ± 0.0142  0.3545 ± 0.0132  0.2357 ± 0.0202\n",
       "Nre         0.2268 ± 0.0049  0.1598 ± 0.0037   0.266 ± 0.0045  0.1977 ± 0.0064\n",
       "ABC         0.2081 ± 0.0008  0.1438 ± 0.0009  0.2579 ± 0.0032  0.1945 ± 0.0006\n",
       "NL          0.2254 ± 0.0014  0.1388 ± 0.0017  0.2834 ± 0.0023  0.1972 ± 0.0026\n",
       "Proportion          0.20072         0.118202         0.200584         0.118061"
      ]
     },
     "execution_count": 23,
     "metadata": {},
     "output_type": "execute_result"
    }
   ],
   "source": [
    "total_df"
   ]
  },
  {
   "cell_type": "code",
   "execution_count": 24,
   "id": "3db2a594",
   "metadata": {},
   "outputs": [
    {
     "name": "stdout",
     "output_type": "stream",
     "text": [
      "\\begin{tabular}{lllll}\n",
      "\\toprule\n",
      "{} &                A &                B &                C &                D \\\\\n",
      "\\midrule\n",
      "Palma      &  0.3389 ± 0.0329 &  0.2029 ± 0.0132 &  0.4806 ± 0.0493 &  0.2647 ± 0.0319 \\\\\n",
      "Gini       &  0.3382 ± 0.0312 &  0.2032 ± 0.0131 &  0.4812 ± 0.0485 &  0.2637 ± 0.0319 \\\\\n",
      "Plain      &     0.1893 ± 0.0 &     0.1095 ± 0.0 &     0.2165 ± 0.0 &     0.1378 ± 0.0 \\\\\n",
      "A          &  0.2251 ± 0.0042 &  0.1541 ± 0.0051 &  0.2631 ± 0.0039 &  0.1892 ± 0.0072 \\\\\n",
      "Npp        &  0.2694 ± 0.0067 &  0.1912 ± 0.0142 &  0.3545 ± 0.0132 &  0.2357 ± 0.0202 \\\\\n",
      "Nre        &  0.2268 ± 0.0049 &  0.1598 ± 0.0037 &   0.266 ± 0.0045 &  0.1977 ± 0.0064 \\\\\n",
      "ABC        &  0.2081 ± 0.0008 &  0.1438 ± 0.0009 &  0.2579 ± 0.0032 &  0.1945 ± 0.0006 \\\\\n",
      "NL         &  0.2254 ± 0.0014 &  0.1388 ± 0.0017 &  0.2834 ± 0.0023 &  0.1972 ± 0.0026 \\\\\n",
      "Proportion &          0.20072 &         0.118202 &         0.200584 &         0.118061 \\\\\n",
      "\\bottomrule\n",
      "\\end{tabular}\n",
      "\n"
     ]
    },
    {
     "name": "stderr",
     "output_type": "stream",
     "text": [
      "<ipython-input-24-2096a7821416>:1: FutureWarning: In future versions `DataFrame.to_latex` is expected to utilise the base implementation of `Styler.to_latex` for formatting and rendering. The arguments signature may therefore change. It is recommended instead to use `DataFrame.style.to_latex` which also contains additional functionality.\n",
      "  print(total_df.to_latex())\n"
     ]
    }
   ],
   "source": [
    "print(total_df.to_latex())"
   ]
  },
  {
   "cell_type": "code",
   "execution_count": 25,
   "id": "e41ab1e3",
   "metadata": {},
   "outputs": [],
   "source": [
    "total_df.to_excel(\"SupplementaryTable3.xlsx\")"
   ]
  }
 ],
 "metadata": {
  "kernelspec": {
   "display_name": "Python 3",
   "language": "python",
   "name": "python3"
  },
  "language_info": {
   "codemirror_mode": {
    "name": "ipython",
    "version": 3
   },
   "file_extension": ".py",
   "mimetype": "text/x-python",
   "name": "python",
   "nbconvert_exporter": "python",
   "pygments_lexer": "ipython3",
   "version": "3.9.12"
  }
 },
 "nbformat": 4,
 "nbformat_minor": 5
}
